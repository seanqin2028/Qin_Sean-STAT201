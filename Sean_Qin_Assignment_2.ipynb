{
 "cells": [
  {
   "cell_type": "raw",
   "metadata": {
    "vscode": {
     "languageId": "raw"
    }
   },
   "source": [
    "---\n",
    "title: \"Assignment 2\"\n",
    "subtitle: \"STAT 201\"\n",
    "author: \"SEAN QIN\"\n",
    "format:\n",
    "  html:\n",
    "    toc: true\n",
    "    embed-resources: true\n",
    "---"
   ]
  },
  {
   "cell_type": "markdown",
   "metadata": {},
   "source": [
    "### Instructions"
   ]
  },
  {
   "cell_type": "markdown",
   "metadata": {},
   "source": [
    "1. **Write your name** on the assignment.\n",
    "\n",
    "2. Write your code in the *Code* cells of the **template provided** to write solutions for the assignment. **Do not open a new notebook**, and work from scratch. Ensure that the solution is written neatly enough to understand and grade.\n",
    "\n",
    "3. Use [Quarto](https://quarto.org/docs/output-formats/html-basics.html) to print the *.ipynb* file as HTML. You will need to open the command prompt, navigate to the directory containing the file, and use the command: `quarto render filename.ipynb --to html`. Submit the HTML file.\n",
    "\n",
    "4. You may talk to a friend, discuss the questions and potential directions for solving them. However, you need to write your own solutions and code separately, and not as a group activity. Do not use AI to solve the problems.\n",
    "\n",
    "5. There are 2 points for cleanliness and organization. The breakdown is as follows:\n",
    "    - Must be an HTML file rendered using Quarto. \n",
    "    - There aren’t excessively long outputs of extraneous information (e.g. no printouts of unnecessary results without good reason, there aren’t long printouts of which iteration a loop is on, there aren’t long sections of commented-out code, etc.). There is no piece of unnecessary / redundant code, and no unnecessary / redundant text\n",
    "    - The code follows the [python style guide](https://peps.python.org/pep-0008/) for naming variables, spaces, indentation, etc.\n",
    "    - The code should be commented and clearly written with intuitive variable names. For example, use variable names such as number_input, factor, hours, instead of a,b,xyz, etc."
   ]
  },
  {
   "cell_type": "markdown",
   "metadata": {},
   "source": [
    "### Question 1 (3 points)"
   ]
  },
  {
   "cell_type": "markdown",
   "metadata": {},
   "source": [
    "a) Write a program that counts down from 5 and then prints the message \"Go\"."
   ]
  },
  {
   "cell_type": "code",
   "execution_count": 16,
   "metadata": {},
   "outputs": [
    {
     "name": "stdout",
     "output_type": "stream",
     "text": [
      "5\n",
      "4\n",
      "3\n",
      "2\n",
      "1\n",
      "Go\n"
     ]
    }
   ],
   "source": [
    "for num in range(5, 0, -1):\n",
    "    print(num)\n",
    "print(\"Go\")\n"
   ]
  },
  {
   "cell_type": "markdown",
   "metadata": {},
   "source": [
    "b) Write a program that asks the user for an integer, then counts down from that integer and then prints the message \"Go\". Use a try-except to ensure the user entered an integer. If it is not an integer, return the message \"You must enter an integer\". Show the output of the program if the user inputs `3`. "
   ]
  },
  {
   "cell_type": "code",
   "execution_count": null,
   "metadata": {},
   "outputs": [
    {
     "name": "stdout",
     "output_type": "stream",
     "text": [
      "3\n",
      "2\n",
      "1\n",
      "Go\n"
     ]
    }
   ],
   "source": [
    "try:\n",
    "    # Ask for and store input integer\n",
    "    num = int(input(\"Enter an integer: \"))\n",
    "    \n",
    "    # Count down from the input integer\n",
    "    for count_num in range(num, 0, -1):\n",
    "        print(count_num)\n",
    "    print(\"Go\")\n",
    "# Code does not account for errors with negative integer entry\n",
    "    \n",
    "except ValueError:\n",
    "    print(\"You must enter an integer\")"
   ]
  },
  {
   "cell_type": "markdown",
   "metadata": {},
   "source": [
    "c) Copy and modify part b to allow the user to keep entering input until they correctly enter an integer (ie: don't end after the except). Show the output of the program if the user first inputs `8.9` and then inputs `7`. "
   ]
  },
  {
   "cell_type": "code",
   "execution_count": null,
   "metadata": {},
   "outputs": [
    {
     "name": "stdout",
     "output_type": "stream",
     "text": [
      "You must enter an integer\n",
      "7\n",
      "6\n",
      "5\n",
      "4\n",
      "3\n",
      "2\n",
      "1\n",
      "Go\n"
     ]
    }
   ],
   "source": [
    "while True:\n",
    "    try:\n",
    "        # Ask for and store input integer\n",
    "        num = int(input(\"Enter an integer: \"))\n",
    "        \n",
    "        # Count down from the input integer\n",
    "        for count_num in range(num, 0, -1):\n",
    "            print(count_num)\n",
    "        print(\"Go\")\n",
    "        \n",
    "        # Exits loop if valid input is entered\n",
    "        break\n",
    "        \n",
    "    except ValueError:\n",
    "        print(\"You must enter an integer\")"
   ]
  },
  {
   "cell_type": "markdown",
   "metadata": {},
   "source": [
    "### Question 2 (2 points)"
   ]
  },
  {
   "cell_type": "markdown",
   "metadata": {},
   "source": [
    "Print a star formation as follows:\n",
    "\n",
    "                                             * \n",
    "                                             * * \n",
    "                                             * * * \n",
    "                                             * * * * \n",
    "                                             \n",
    "Ask the user to input the height of the formation first. For example, 4 should return the formation above. Show the output of the program if the user inputs `5`. "
   ]
  },
  {
   "cell_type": "code",
   "execution_count": 20,
   "metadata": {},
   "outputs": [
    {
     "name": "stdout",
     "output_type": "stream",
     "text": [
      "* \n",
      "\n",
      "* * \n",
      "\n",
      "* * * \n",
      "\n",
      "* * * * \n",
      "\n",
      "* * * * * \n",
      "\n"
     ]
    }
   ],
   "source": [
    "height = int(input(\"Enter height: \"))\n",
    "for layer in range(1, height + 1):\n",
    "    for individual_star in range(layer):\n",
    "        print(\"*\", end = \" \")\n",
    "    print(\"\\n\")"
   ]
  },
  {
   "cell_type": "markdown",
   "metadata": {},
   "source": [
    "### Question 3 (6 points)"
   ]
  },
  {
   "cell_type": "markdown",
   "metadata": {},
   "source": [
    "a) Write a program where you play 3 \"Rock, Paper, Scissors\" games against the computer. Simulate a random choice for the computer each game and ask the user to enter either rock, paper, or scissors. Print the number of times the user won out of 3 games. Show the output of the program after playing the game. \n",
    "\n",
    "Recall: rock beats scissors; scissors beats paper; paper beats rock.\n",
    "\n",
    "Example:\n",
    "\n",
    "                                    \"You won <num_win> out of 3 games.\""
   ]
  },
  {
   "cell_type": "code",
   "execution_count": 25,
   "metadata": {},
   "outputs": [
    {
     "name": "stdout",
     "output_type": "stream",
     "text": [
      "You chose rock and the computer chose scissors; you win!\n",
      "You chose scissors and the computer chose paper; you win!\n",
      "You chose paper and the computer chose paper; it's a tie!\n",
      "You won 2 out of 3 games.\n"
     ]
    }
   ],
   "source": [
    "# import the random function and name the alias rm\n",
    "import random as rm\n",
    "\n",
    "games_won = 0\n",
    "\n",
    "for game in range(3):\n",
    "    # code to generate a random choice of rock, paper, scissors for the computer\n",
    "    comp_choice = rm.choice(['rock', 'paper', 'scissors'])\n",
    "    # asks for and stores user input\n",
    "    user_choice = input(\"Enter either rock, paper, or scissors\")\n",
    "    # cleans user choice\n",
    "    user_choice = user_choice.lower()\n",
    "\n",
    "    if (user_choice == 'rock' and comp_choice == 'scissors') or \\\n",
    "         (user_choice == 'scissors' and comp_choice == 'paper') or \\\n",
    "         (user_choice == 'paper' and comp_choice == 'rock'):\n",
    "        # adds to win count only if player wins\n",
    "        print(f\"You chose {user_choice} and the computer chose {comp_choice}; you win!\")\n",
    "        games_won += 1\n",
    "    elif (user_choice == comp_choice):\n",
    "        print(f\"You chose {user_choice} and the computer chose {comp_choice}; it's a tie!\")\n",
    "    else:\n",
    "        print(f\"You chose {user_choice} and the computer chose {comp_choice}; you lose!\")\n",
    "\n",
    "print(f\"You won {games_won} out of 3 games.\")\n",
    "\n"
   ]
  },
  {
   "cell_type": "markdown",
   "metadata": {},
   "source": [
    "b) Write a program where you play \"Rock, Paper, Scissors\" games against the computer until you have won 3 games. Simulate a random choice for the computer each game and ask the user to enter either rock, paper, or scissors. Print the number of games it took to win 3 times. Show the output of the program after playing the game.\n",
    "\n",
    "Example:\n",
    "\n",
    "                                    \"You won 3 out of <num_games> games.\""
   ]
  },
  {
   "cell_type": "code",
   "execution_count": 26,
   "metadata": {},
   "outputs": [
    {
     "name": "stdout",
     "output_type": "stream",
     "text": [
      "You chose rock and the computer chose scissors; you win!\n",
      "You chose paper and the computer chose scissors; you lose!\n",
      "You chose paper and the computer chose rock; you win!\n",
      "You chose rock and the computer chose paper; you lose!\n",
      "You chose scissors and the computer chose rock; you lose!\n",
      "You chose paper and the computer chose scissors; you lose!\n",
      "You chose scissors and the computer chose rock; you lose!\n",
      "You chose rock and the computer chose rock; it's a tie!\n",
      "You chose rock and the computer chose rock; it's a tie!\n",
      "You chose paper and the computer chose rock; you win!\n",
      "You won 3 out of 10 games.\n"
     ]
    }
   ],
   "source": [
    "# import the random function and name the alias rm\n",
    "import random as rm\n",
    "\n",
    "games_won = 0\n",
    "games_played = 0\n",
    "\n",
    "while (games_won < 3):\n",
    "    # code to generate a random choice of rock, paper, scissors for the computer\n",
    "    comp_choice = rm.choice(['rock', 'paper', 'scissors'])\n",
    "    # asks for and stores user input\n",
    "    user_choice = input(\"Enter either rock, paper, or scissors\")\n",
    "    # cleans user choice\n",
    "    user_choice = user_choice.lower()\n",
    "\n",
    "    if (user_choice == 'rock' and comp_choice == 'scissors') or \\\n",
    "         (user_choice == 'scissors' and comp_choice == 'paper') or \\\n",
    "         (user_choice == 'paper' and comp_choice == 'rock'):\n",
    "        # adds to win count only if player wins\n",
    "        print(f\"You chose {user_choice} and the computer chose {comp_choice}; you win!\")\n",
    "        games_won += 1\n",
    "    elif (user_choice == comp_choice):\n",
    "        print(f\"You chose {user_choice} and the computer chose {comp_choice}; it's a tie!\")\n",
    "    else:\n",
    "        print(f\"You chose {user_choice} and the computer chose {comp_choice}; you lose!\")\n",
    "    \n",
    "    # increments games_played every time the user enters a choice regardless of if they win or not\n",
    "    games_played += 1\n",
    "\n",
    "print(f\"You won 3 out of {games_played} games.\")"
   ]
  },
  {
   "cell_type": "markdown",
   "metadata": {},
   "source": [
    "### Question 4 (6 points)"
   ]
  },
  {
   "cell_type": "markdown",
   "metadata": {},
   "source": [
    "a) Write a program (loop) that prints all the factors of a positive integer input by the user. A factor is any positive integer that divides the number and leaves no remainder. Show the output of the program if the user inputs `24`. \n",
    "\n",
    "Example: The factors of 8 are 1, 2, 4, 8."
   ]
  },
  {
   "cell_type": "code",
   "execution_count": null,
   "metadata": {},
   "outputs": [
    {
     "name": "stdout",
     "output_type": "stream",
     "text": [
      "The factors of 24 are 1, 2, 3, 4, 6, 8, 12, 24.\n"
     ]
    }
   ],
   "source": [
    "# asks for and stores positive integer to be factored\n",
    "num = int(input(\"Enter positive integer to be factored: \"))\n",
    "\n",
    "print(f\"The factors of {num} are \", end = \"\")\n",
    "\n",
    "# checks and prints each factor not including num\n",
    "for potential_factor in range(1, num):\n",
    "    if num % potential_factor == 0:\n",
    "        print(potential_factor, end = \", \",)\n",
    "\n",
    "print(f\"{num}.\")"
   ]
  },
  {
   "cell_type": "markdown",
   "metadata": {},
   "source": [
    "b) Write a **function** called `number_of_factors` that takes an integer and returns how many factors the number has. Run your function with `24` to check if it works."
   ]
  },
  {
   "cell_type": "code",
   "execution_count": null,
   "metadata": {},
   "outputs": [
    {
     "name": "stdout",
     "output_type": "stream",
     "text": [
      "8\n"
     ]
    }
   ],
   "source": [
    "def number_of_factors(num):\n",
    "    factor_count = 0\n",
    "    # go through every integer below and including num and increment factor_count for each\n",
    "    for potential_factor in range(1, num + 1):\n",
    "        if num % potential_factor == 0:\n",
    "            factor_count += 1\n",
    "    \n",
    "    return factor_count\n",
    "\n",
    "print(number_of_factors(24))"
   ]
  },
  {
   "cell_type": "markdown",
   "metadata": {},
   "source": [
    "### Question 5 (6 points)"
   ]
  },
  {
   "cell_type": "markdown",
   "metadata": {},
   "source": [
    "a) Write a program (loop) that identifies whether a positive integer input by the user is prime or not. A prime number is a number whose only divisors are 1 and itself. Show the output when the program is used to check if `89` is prime or not."
   ]
  },
  {
   "cell_type": "code",
   "execution_count": 27,
   "metadata": {},
   "outputs": [
    {
     "name": "stdout",
     "output_type": "stream",
     "text": [
      "1 is a prime number\n"
     ]
    }
   ],
   "source": [
    "# ask for positive integer input and store as num\n",
    "num_to_check = int(input(\"Enter positive integer to be checked:\"))\n",
    "\n",
    "is_prime = True\n",
    "\n",
    "# check potential divisors from 2 to sqrt(num_to_check)\n",
    "for potential_divisor in range(2, int(num_to_check ** 0.5) + 1):\n",
    "    # Check if num is divisible by i\n",
    "    if num_to_check % potential_divisor == 0:\n",
    "        is_prime = False\n",
    "        print(f\"{num_to_check} is not a prime number\")\n",
    "        break\n",
    "\n",
    "# if is_prime is still True, num must be prime\n",
    "if is_prime:\n",
    "    print(f\"{num_to_check} is a prime number\")"
   ]
  },
  {
   "cell_type": "markdown",
   "metadata": {},
   "source": [
    "b) Write a **function** that checks if a positive integer is prime or not. It should take one integer input and return a boolean. Run your function with `197` to check if it works."
   ]
  },
  {
   "cell_type": "code",
   "execution_count": 10,
   "metadata": {},
   "outputs": [
    {
     "name": "stdout",
     "output_type": "stream",
     "text": [
      "True\n"
     ]
    }
   ],
   "source": [
    "def check_prime(num_to_check):\n",
    "    is_prime = True\n",
    "\n",
    "    # check potential divisors from 2 to sqrt(num_to_check)\n",
    "    for potential_divisor in range(2, int(num_to_check ** 0.5) + 1):\n",
    "        # Check if num is divisible by i\n",
    "        if num_to_check % potential_divisor == 0:\n",
    "            is_prime = False\n",
    "            break\n",
    "    \n",
    "    return is_prime\n",
    "\n",
    "print(check_prime(197))"
   ]
  },
  {
   "cell_type": "markdown",
   "metadata": {},
   "source": [
    "### Question 6 (4 points)"
   ]
  },
  {
   "cell_type": "markdown",
   "metadata": {},
   "source": [
    "Write a function that calculates the area of a rectangle. The function should have an input for length (in inches) and width (in inches). And have 2 ouputs: the area in terms of square inches and the area in terms of square feet. There are 12 inches in 1 foot. Run your function with a length of 102 inches and width of 60 inches to check if it works."
   ]
  },
  {
   "cell_type": "code",
   "execution_count": 21,
   "metadata": {},
   "outputs": [
    {
     "name": "stdout",
     "output_type": "stream",
     "text": [
      "Area in square inches: 6120\n",
      "Area in square feet: 42.5\n"
     ]
    }
   ],
   "source": [
    "def calculate_rectangle_area(length, width):\n",
    "    # calculate area in square inches\n",
    "    area_square_inches = length * width\n",
    "    \n",
    "    # convert to square feet\n",
    "    area_square_feet = area_square_inches / 144\n",
    "    \n",
    "    return area_square_inches, area_square_feet\n",
    "\n",
    "area_square_inches, area_square_feet = calculate_rectangle_area(102, 60)\n",
    "\n",
    "print(f\"Area in square inches: {area_square_inches}\")\n",
    "print(f\"Area in square feet: {area_square_feet}\")"
   ]
  },
  {
   "cell_type": "markdown",
   "metadata": {},
   "source": [
    "### Question 7 (3 points)"
   ]
  },
  {
   "cell_type": "markdown",
   "metadata": {},
   "source": [
    "Write a function that takes a word and a sentence as two string inputs and returns the number of times the word occurs in the sentence as the output.\n",
    "\n",
    "Run your function with **\"sea\"** and **“Sea shells are on the sea shore when the sea is calm.”** inputs to check if it works. Your function should work for any word and sentence. \n",
    "\n",
    "Note: at this time it does not have to differentiate a distinct word just if it appears in any form. Example: **“The sea gives me nausea.”** would return 2."
   ]
  },
  {
   "cell_type": "code",
   "execution_count": 24,
   "metadata": {},
   "outputs": [
    {
     "name": "stdout",
     "output_type": "stream",
     "text": [
      "3\n"
     ]
    }
   ],
   "source": [
    "def count_word_occurrences(word, sentence):\n",
    "    # converting both inputs to lowercase to make the search case-insensitive\n",
    "    word_lower = word.lower()\n",
    "    sentence_lower = sentence.lower()\n",
    "    \n",
    "    # split the sentence into words\n",
    "    words = sentence_lower.split()\n",
    "    \n",
    "    count = 0\n",
    "    for word_to_check in words:\n",
    "        # remove any punctuation that might be attached to the word\n",
    "        word_cleaned = word_to_check.strip('.,!?:;\"\\'()[]{}')\n",
    "        if word_cleaned == word_lower:\n",
    "            count += 1\n",
    "    \n",
    "    return count\n",
    "\n",
    "\n",
    "\n",
    "print(count_word_occurrences(\"sea\", \"Sea shells are on the sea shore when the sea is calm.\"))"
   ]
  }
 ],
 "metadata": {
  "kernelspec": {
   "display_name": ".venv",
   "language": "python",
   "name": "python3"
  },
  "language_info": {
   "codemirror_mode": {
    "name": "ipython",
    "version": 3
   },
   "file_extension": ".py",
   "mimetype": "text/x-python",
   "name": "python",
   "nbconvert_exporter": "python",
   "pygments_lexer": "ipython3",
   "version": "3.13.2"
  }
 },
 "nbformat": 4,
 "nbformat_minor": 4
}
