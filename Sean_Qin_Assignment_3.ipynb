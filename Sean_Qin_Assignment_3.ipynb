{
 "cells": [
  {
   "cell_type": "raw",
   "metadata": {
    "vscode": {
     "languageId": "raw"
    }
   },
   "source": [
    "---\n",
    "title: \"Assignment 3\"\n",
    "subtitle: \"STAT 201\"\n",
    "author: \"SEAN QIN\"\n",
    "format:\n",
    "  html:\n",
    "    toc: true\n",
    "    embed-resources: true\n",
    "jupyter: python3\n",
    "---"
   ]
  },
  {
   "cell_type": "markdown",
   "metadata": {},
   "source": [
    "### Instructions"
   ]
  },
  {
   "cell_type": "markdown",
   "metadata": {},
   "source": [
    "1. **Write your name** on the assignment.\n",
    "\n",
    "2. Write your code in the *Code* cells of the **template provided** to write solutions for the assignment. **Do not open a new notebook**, and work from scratch. Ensure that the solution is written neatly enough to understand and grade.\n",
    "\n",
    "3. Use [Quarto](https://quarto.org/docs/output-formats/html-basics.html) to print the *.ipynb* file as HTML. You will need to open the command prompt, navigate to the directory containing the file, and use the command: `quarto render filename.ipynb --to html`. Submit the HTML file.\n",
    "\n",
    "4. You may talk to a friend, discuss the questions and potential directions for solving them. However, you need to write your own solutions and code separately, and not as a group activity. Do not use AI to solve the problems.\n",
    "\n",
    "5. If your document is not clean and organized, you can lose up to 2 points:\n",
    "\n",
    "    - Must be an HTML file rendered using Quarto. \n",
    "    - There aren’t excessively long outputs of extraneous information (e.g. no printouts of unnecessary results without good reason, there aren’t long printouts of which iteration a loop is on, there aren’t long sections of commented-out code, etc.). There is no piece of unnecessary / redundant code, and no unnecessary / redundant text\n",
    "    - The code follows the [python style guide](https://peps.python.org/pep-0008/) for naming variables, spaces, indentation, etc.\n",
    "    - The code should be commented and clearly written with intuitive variable names. For example, use variable names such as number_input, factor, hours, instead of a,b,xyz, etc."
   ]
  },
  {
   "cell_type": "markdown",
   "metadata": {},
   "source": [
    "## Question 1 (5 points)"
   ]
  },
  {
   "cell_type": "markdown",
   "metadata": {},
   "source": [
    "a. Create a tuple called `my_data` that contains the following elements: `'dog', 9, True, 2, 8, 'cat', 3`"
   ]
  },
  {
   "cell_type": "code",
   "execution_count": 5,
   "metadata": {},
   "outputs": [
    {
     "name": "stdout",
     "output_type": "stream",
     "text": [
      "('dog', 9, True, 2, 8, 'cat', 3)\n"
     ]
    }
   ],
   "source": [
    "my_data = ('dog', 9, True, 2, 8, 'cat', 3)\n",
    "\n",
    "print (my_data)"
   ]
  },
  {
   "cell_type": "markdown",
   "metadata": {},
   "source": [
    "b. Unpack **only the string** elements in `my_data`. You can store these elements by any variable name of your choice. Print the variables."
   ]
  },
  {
   "cell_type": "code",
   "execution_count": null,
   "metadata": {},
   "outputs": [
    {
     "name": "stdout",
     "output_type": "stream",
     "text": [
      "dog\n",
      "cat\n"
     ]
    }
   ],
   "source": [
    "str_elements = tuple(item for item in my_data if isinstance(item, str))\n",
    "element1, element2 = str_elements\n",
    "\n",
    "\n",
    "print(element1)\n",
    "print(element2)"
   ]
  },
  {
   "cell_type": "markdown",
   "metadata": {},
   "source": [
    "c. Convert `my_data` to a list object. Then use indexing **in 2 different ways** to print the second object in your list. Note: that means you will have the same object (`9`) being printed out twice."
   ]
  },
  {
   "cell_type": "code",
   "execution_count": null,
   "metadata": {},
   "outputs": [
    {
     "name": "stdout",
     "output_type": "stream",
     "text": [
      "9\n",
      "9\n"
     ]
    }
   ],
   "source": [
    "my_list = list(my_data)\n",
    "\n",
    "# way 1: direct indexing\n",
    "print(my_list[1])  \n",
    "\n",
    "# way 2: __getitem__ method\n",
    "print(my_list.__getitem__(1))"
   ]
  },
  {
   "cell_type": "markdown",
   "metadata": {},
   "source": [
    "d. Use a loop to remove any elements in `my_data` that are NOT integers. Print `my_data` to prove you were successful.\n",
    "\n",
    "Note: This needs to be a loop that would work even if you changed the elements in `my_data`."
   ]
  },
  {
   "cell_type": "code",
   "execution_count": null,
   "metadata": {},
   "outputs": [
    {
     "name": "stdout",
     "output_type": "stream",
     "text": [
      "[9, 2, 8, 3]\n"
     ]
    }
   ],
   "source": [
    "# convert to list to allow modification as sets are immutable\n",
    "my_data = list(my_data)\n",
    "i = 0\n",
    "while i < len(my_data):\n",
    "    if not isinstance(my_data[i], int) or isinstance(my_data[i], bool):\n",
    "        my_data.pop(i)\n",
    "    else:\n",
    "        i += 1\n",
    "\n",
    "print(my_data)"
   ]
  },
  {
   "cell_type": "markdown",
   "metadata": {},
   "source": [
    "e. Write a function that takes a list of integers as an input and returns both the minimum and maximum value. **Store the output** of the function when it is run with `my_data` from part d. **Print** your stored variables **in a sentence** to prove you were successful. This sentence should be the only thing printed."
   ]
  },
  {
   "cell_type": "code",
   "execution_count": 9,
   "metadata": {},
   "outputs": [
    {
     "name": "stdout",
     "output_type": "stream",
     "text": [
      "The minimum value is 2 and the maximum value is 9.\n"
     ]
    }
   ],
   "source": [
    "def find_min_max(int_list):\n",
    "    return min(int_list), max(int_list)\n",
    "\n",
    "min_val, max_val = find_min_max(my_data)\n",
    "\n",
    "print(f\"The minimum value is {min_val} and the maximum value is {max_val}.\")"
   ]
  },
  {
   "cell_type": "markdown",
   "metadata": {},
   "source": [
    "## Question 2 (2 points)"
   ]
  },
  {
   "cell_type": "markdown",
   "metadata": {},
   "source": [
    "Create a shopping list by **asking the user** for a grocery item to add to the **list object**. \n",
    "\n",
    "Continue asking the user for items until the user types \"done\".\n",
    "\n",
    "**Only once the user is \"done\"**, print the grocery list.\n",
    "\n",
    "Run your program with at least 3 items added to your list."
   ]
  },
  {
   "cell_type": "code",
   "execution_count": 38,
   "metadata": {},
   "outputs": [
    {
     "name": "stdout",
     "output_type": "stream",
     "text": [
      "Your Shopping List:\n",
      "1. steak\n",
      "2. celery\n",
      "3. eggs\n",
      "4. potatoes\n"
     ]
    }
   ],
   "source": [
    "def create_shopping_list():\n",
    "    shopping_list = []\n",
    "    \n",
    "    while True:\n",
    "        # get input from user\n",
    "        item = input(\"Enter a grocery item (or 'done' to finish): \")\n",
    "        \n",
    "        if item.lower() == \"done\":\n",
    "            break\n",
    "        \n",
    "        shopping_list.append(item)\n",
    "    \n",
    "    return shopping_list\n",
    "\n",
    "user_shopping_list = create_shopping_list()\n",
    "\n",
    "print(\"Your Shopping List:\")\n",
    "for index, item in enumerate(user_shopping_list, 1):\n",
    "        print(f\"{index}. {item}\")"
   ]
  },
  {
   "cell_type": "markdown",
   "metadata": {},
   "source": [
    "## Question 3 (2 points)"
   ]
  },
  {
   "cell_type": "markdown",
   "metadata": {},
   "source": [
    "**Ask the user** for a grocery item and the price of the item (2 inputs).\n",
    "\n",
    "Create a `dictionary` where the grocery item is the key and the price is the value. \n",
    "\n",
    "Continue asking the user for items and prices until the user types \"done\".\n",
    "\n",
    "**Only once the user is \"done\"**, print the object.\n",
    "\n",
    "Run your program with at least 3 entries."
   ]
  },
  {
   "cell_type": "code",
   "execution_count": null,
   "metadata": {},
   "outputs": [
    {
     "name": "stdout",
     "output_type": "stream",
     "text": [
      "{'steak': 12.0, 'celery': 5.0, 'ice cream': 10.0}\n"
     ]
    }
   ],
   "source": [
    "def create_grocery_price_dict():\n",
    "    grocery_dict = {}\n",
    "    \n",
    "    while True:\n",
    "        # get input from user\n",
    "        item = input(\"Enter a grocery item (or 'done' to finish): \")\n",
    "        \n",
    "        if item.lower() == \"done\":\n",
    "            break\n",
    "        \n",
    "        try:\n",
    "            price = float(input(f\"Enter the price for {item}: $\"))\n",
    "            # Add the item and price to our dictionary\n",
    "            grocery_dict[item] = price\n",
    "        except ValueError:\n",
    "            print(\"Invalid price! Please enter a number.\")\n",
    "            # skip iteration and ask for a new item\n",
    "            continue    \n",
    "\n",
    "    return grocery_dict\n",
    "\n",
    "grocery_price_dict = create_grocery_price_dict()\n",
    "print(grocery_price_dict)"
   ]
  },
  {
   "cell_type": "markdown",
   "metadata": {},
   "source": [
    "## Question 4 (2 points)\n",
    "Get a list of numbers as input from a user and calculate the sum of it\n",
    "2 numbers are separated by a whitespace. "
   ]
  },
  {
   "cell_type": "code",
   "execution_count": 37,
   "metadata": {},
   "outputs": [
    {
     "name": "stdout",
     "output_type": "stream",
     "text": [
      "Numbers entered: [5, 7, 76, 83.2131, -234898]\n",
      "Sum: -234726.7869\n",
      "-234726.7869\n"
     ]
    }
   ],
   "source": [
    "def calculate_sum():\n",
    "    try:\n",
    "        # get input from the user\n",
    "        user_input = input(\"Enter numbers separated by spaces: \")\n",
    "        \n",
    "        # split input string by whitespace and convert to numbers\n",
    "        numbers = []\n",
    "        for num_str in user_input.split():\n",
    "            try:\n",
    "                # clean numbers\n",
    "                number = float(num_str)\n",
    "                if number.is_integer():\n",
    "                    number = int(number)\n",
    "                numbers.append(number)\n",
    "            except ValueError:\n",
    "                print(f\"Warning: '{num_str}' is not a valid number and will be skipped.\")\n",
    "        \n",
    "        # calculate sum\n",
    "        if numbers:\n",
    "            total_sum = sum(numbers)\n",
    "            # Print result\n",
    "            print(f\"Numbers entered: {numbers}\")\n",
    "            print(f\"Sum: {total_sum}\")\n",
    "            return total_sum\n",
    "        else:\n",
    "            print(\"No valid numbers were entered.\")\n",
    "            return 0\n",
    "            \n",
    "    except Exception as e:\n",
    "        print(f\"An error occurred: {e}\")\n",
    "        return 0\n",
    "\n",
    "print(calculate_sum())"
   ]
  },
  {
   "cell_type": "markdown",
   "metadata": {},
   "source": [
    "## Question 5 (4 points)"
   ]
  },
  {
   "cell_type": "markdown",
   "metadata": {},
   "source": [
    "The `score` list below contains the credit score for an individual at the end of the year and the `year` list contains the corresponding year. ie: at the end of 2010 the individual had a credit score of 680."
   ]
  },
  {
   "cell_type": "code",
   "execution_count": 23,
   "metadata": {},
   "outputs": [],
   "source": [
    "score = [680, 685, 695, 690, 715, 720, 710]\n",
    "year = [2010, 2011, 2012, 2014, 2015, 2016, 2017]"
   ]
  },
  {
   "cell_type": "markdown",
   "metadata": {},
   "source": [
    "### Part a (1 point)"
   ]
  },
  {
   "cell_type": "markdown",
   "metadata": {},
   "source": [
    "The information for 2013 is missing. In `year`, insert the year 2013 between 2012 and 2014. In `score`, insert the credit score of 2013 as the average of the credit score of 2012 and 2014 (use indexing - never use fixed values if it can be avoided). Print `year` and `score` to prove you were successful."
   ]
  },
  {
   "cell_type": "code",
   "execution_count": 24,
   "metadata": {},
   "outputs": [
    {
     "name": "stdout",
     "output_type": "stream",
     "text": [
      "year = [2010, 2011, 2012, 2013, 2014, 2015, 2016, 2017]\n",
      "score = [680, 685, 695, 692.5, 690, 715, 720, 710]\n"
     ]
    }
   ],
   "source": [
    "# find positions for values for years 2012 and 2014\n",
    "index_2012 = year.index(2012)\n",
    "index_2014 = year.index(2014)\n",
    "\n",
    "score_2013 = (score[index_2012] + score[index_2014]) / 2\n",
    "\n",
    "year.insert(index_2012 + 1, 2013)\n",
    "score.insert(index_2012 + 1, score_2013)\n",
    "\n",
    "print(\"year =\", year)\n",
    "print(\"score =\", score)"
   ]
  },
  {
   "cell_type": "markdown",
   "metadata": {},
   "source": [
    "### Part b (3 points)"
   ]
  },
  {
   "cell_type": "markdown",
   "metadata": {},
   "source": [
    "Determine which year had the largest percentage increase in credit score. Round your percent to 2 decimal places (0.00%). \n",
    "\n",
    "For example, the percent change in 2011 is equal to 100*(685 - 680)/680 = 0.74%.\n",
    "\n",
    "There are MANY ways to accomplish this and you may do so using any techniques we have learned so long as you are using code.\n",
    "\n",
    "**Print only the sentence**: \n",
    "\n",
    "                    \"The individual had the largest increase in {year} of {change} percent.\"\n",
    "                    \n",
    "For example if the largest increase happened to be in 2011 (it didn't):\n",
    "\n",
    "                    \"The individual had the largest increase in 2011 of 0.74 percent.\""
   ]
  },
  {
   "cell_type": "code",
   "execution_count": 26,
   "metadata": {},
   "outputs": [
    {
     "name": "stdout",
     "output_type": "stream",
     "text": [
      "The individual had the largest increase in 2015 of 3.62 percent.\n"
     ]
    }
   ],
   "source": [
    "max_increase = 0\n",
    "max_increase_year = None\n",
    "\n",
    "for i in range(1, len(year)):\n",
    "    previous_score = score[i-1]\n",
    "    current_score = score[i]\n",
    "    current_year = year[i]\n",
    "    \n",
    "    percent_increase = 100 * (current_score - previous_score) / previous_score\n",
    "    percent_increase_rounded = round(percent_increase, 2)\n",
    "    \n",
    "    if percent_increase > max_increase:\n",
    "        max_increase = percent_increase\n",
    "        max_increase_year = current_year\n",
    "        max_increase_rounded = percent_increase_rounded\n",
    "\n",
    "print(f\"The individual had the largest increase in {max_increase_year} of {max_increase_rounded} percent.\")\n"
   ]
  },
  {
   "cell_type": "markdown",
   "metadata": {},
   "source": [
    "## Question 6 (4 points)"
   ]
  },
  {
   "cell_type": "markdown",
   "metadata": {},
   "source": [
    "Suppose 4 individuals are trying to decide which toppings to put on a shared pizza.\n",
    "\n",
    "The `pizza` dictionary below contains the names of the individuals and list of corresponding topping preferences."
   ]
  },
  {
   "cell_type": "code",
   "execution_count": 27,
   "metadata": {},
   "outputs": [],
   "source": [
    "pizza = {\n",
    "    'Ava': [\"sausage\", \"mushroom\", \"bacon\"],\n",
    "    'Billy': [\"pepperoni\", \"bacon\", \"sausage\", \"olives\"],\n",
    "    'Carol': [\"ham\", \"pineapple\", \"olives\", \"mushroom\"],\n",
    "    'David': [\"pepperoni\", \"bacon\", \"mushroom\", \"green pepper\", \"mushroom\"]\n",
    "}"
   ]
  },
  {
   "cell_type": "markdown",
   "metadata": {},
   "source": [
    "If at least 3 individuals listed a topping it will be included on the shared pizza.\n",
    "\n",
    "Create a **list** of the toppings that at least 3 individuals included as a preference.\n",
    "**Print only this list object.**\n",
    "\n",
    "There are MANY ways to accomplish this and you may do so using any techniques we have learned so long as you are using code."
   ]
  },
  {
   "cell_type": "code",
   "execution_count": 30,
   "metadata": {},
   "outputs": [
    {
     "name": "stdout",
     "output_type": "stream",
     "text": [
      "['mushroom', 'bacon']\n"
     ]
    }
   ],
   "source": [
    "topping_counts = {}\n",
    "\n",
    "for person, toppings in pizza.items():\n",
    "    for topping in toppings:\n",
    "        if topping in topping_counts:\n",
    "            topping_counts[topping] += 1\n",
    "        else:\n",
    "            topping_counts[topping] = 1\n",
    "\n",
    "triple_shared_toppings = [topping for topping, count in topping_counts.items() if count >= 3]\n",
    "\n",
    "print(triple_shared_toppings)"
   ]
  },
  {
   "cell_type": "markdown",
   "metadata": {},
   "source": [
    "## Question 7 (11 points)"
   ]
  },
  {
   "cell_type": "markdown",
   "metadata": {},
   "source": [
    "### Part a (1 point)"
   ]
  },
  {
   "cell_type": "markdown",
   "metadata": {},
   "source": [
    "Create a list called `suits` that contains the following elements: \"hearts\", \"spades\", \"diamonds\", \"clubs\"\n",
    "    \n",
    "Create a list called `numbers` that contain the following elements: 2, 3, 4, 5, 6, 7, 8, 9, 10, \"J\", \"Q\", \"K\", \"A\"\n",
    "\n",
    "No need to print any output here."
   ]
  },
  {
   "cell_type": "code",
   "execution_count": null,
   "metadata": {},
   "outputs": [],
   "source": [
    "suits = [\"hearts\", \"spades\", \"diamonds\", \"clubs\"]\n",
    "numbers = [2, 3, 4, 5, 6, 7, 8, 9, 10, \"J\", \"Q\", \"K\", \"A\"]"
   ]
  },
  {
   "cell_type": "markdown",
   "metadata": {},
   "source": [
    "### Part b (3 points)"
   ]
  },
  {
   "cell_type": "markdown",
   "metadata": {},
   "source": [
    "Use a **nested loop** to create a nested data structure called `deck` that is a **list of dictionaries**. \n",
    "\n",
    "This data structure should contain every combination of `suits` and `numbers` created in **Part a**. \n",
    "\n",
    "Clarification: \n",
    "\n",
    "- This list should contain 52 dictionaries each representing a card. \n",
    "- Each dictionary will have a key for `suit` and `value`.\n",
    "- Example: The first object in the list is {'suit': 'hearts', 'value': 2}\n",
    "\n",
    "Print only your `deck` object."
   ]
  },
  {
   "cell_type": "code",
   "execution_count": 33,
   "metadata": {},
   "outputs": [
    {
     "name": "stdout",
     "output_type": "stream",
     "text": [
      "[{'suit': 'hearts', 'value': 2}, {'suit': 'hearts', 'value': 3}, {'suit': 'hearts', 'value': 4}, {'suit': 'hearts', 'value': 5}, {'suit': 'hearts', 'value': 6}, {'suit': 'hearts', 'value': 7}, {'suit': 'hearts', 'value': 8}, {'suit': 'hearts', 'value': 9}, {'suit': 'hearts', 'value': 10}, {'suit': 'hearts', 'value': 'J'}, {'suit': 'hearts', 'value': 'Q'}, {'suit': 'hearts', 'value': 'K'}, {'suit': 'hearts', 'value': 'A'}, {'suit': 'spades', 'value': 2}, {'suit': 'spades', 'value': 3}, {'suit': 'spades', 'value': 4}, {'suit': 'spades', 'value': 5}, {'suit': 'spades', 'value': 6}, {'suit': 'spades', 'value': 7}, {'suit': 'spades', 'value': 8}, {'suit': 'spades', 'value': 9}, {'suit': 'spades', 'value': 10}, {'suit': 'spades', 'value': 'J'}, {'suit': 'spades', 'value': 'Q'}, {'suit': 'spades', 'value': 'K'}, {'suit': 'spades', 'value': 'A'}, {'suit': 'diamonds', 'value': 2}, {'suit': 'diamonds', 'value': 3}, {'suit': 'diamonds', 'value': 4}, {'suit': 'diamonds', 'value': 5}, {'suit': 'diamonds', 'value': 6}, {'suit': 'diamonds', 'value': 7}, {'suit': 'diamonds', 'value': 8}, {'suit': 'diamonds', 'value': 9}, {'suit': 'diamonds', 'value': 10}, {'suit': 'diamonds', 'value': 'J'}, {'suit': 'diamonds', 'value': 'Q'}, {'suit': 'diamonds', 'value': 'K'}, {'suit': 'diamonds', 'value': 'A'}, {'suit': 'clubs', 'value': 2}, {'suit': 'clubs', 'value': 3}, {'suit': 'clubs', 'value': 4}, {'suit': 'clubs', 'value': 5}, {'suit': 'clubs', 'value': 6}, {'suit': 'clubs', 'value': 7}, {'suit': 'clubs', 'value': 8}, {'suit': 'clubs', 'value': 9}, {'suit': 'clubs', 'value': 10}, {'suit': 'clubs', 'value': 'J'}, {'suit': 'clubs', 'value': 'Q'}, {'suit': 'clubs', 'value': 'K'}, {'suit': 'clubs', 'value': 'A'}]\n"
     ]
    }
   ],
   "source": [
    "deck = []\n",
    "for suit in suits:\n",
    "    for number in numbers:\n",
    "        deck.append({\"suit\": suit, \"value\": number})\n",
    "\n",
    "print(deck)\n"
   ]
  },
  {
   "cell_type": "markdown",
   "metadata": {},
   "source": [
    "### Part c (1 point)"
   ]
  },
  {
   "cell_type": "markdown",
   "metadata": {},
   "source": [
    "Import the `random` module and name the alias `rm`. Use the `sample()` function from this module to **sample 2 cards** from the `deck` you created in **Part b**. Assign the first object to `player1` and the second object to `player2`.\n",
    "\n",
    "Print `player1` and `player2`'s cards to prove you were successful."
   ]
  },
  {
   "cell_type": "code",
   "execution_count": 40,
   "metadata": {},
   "outputs": [
    {
     "name": "stdout",
     "output_type": "stream",
     "text": [
      "Player 1's card:\n",
      "{'suit': 'clubs', 'value': 'Q'}\n",
      "Player 2's card:\n",
      "{'suit': 'diamonds', 'value': 5}\n"
     ]
    }
   ],
   "source": [
    "import random as rm\n",
    "sampled_cards = rm.sample(deck, 2)\n",
    "player1 = sampled_cards[0]\n",
    "player2 = sampled_cards[1]\n",
    "\n",
    "print(\"Player 1's card:\")\n",
    "print(player1)\n",
    "print(\"Player 2's card:\")\n",
    "print(player2)\n"
   ]
  },
  {
   "cell_type": "markdown",
   "metadata": {},
   "source": [
    "### Part d (4 points)"
   ]
  },
  {
   "cell_type": "markdown",
   "metadata": {},
   "source": [
    "Write a function that takes 2 input values (each input will be a dictionary containing keys: \"suit\" and \"value\").\n",
    "This function should **only** return the card (dictionary) that is the highest number. \n",
    "If both numbers are the same then the function should return the string \"Tie\".\n",
    "\n",
    "**Store** the output of the function as `winning_card` when the function is run using `player1` and `player2` created in **Part c**.\n",
    "\n",
    "Print `winning_card`.\n",
    "\n",
    "Clarification: \n",
    "\n",
    "- 2 < ... < 10 < J < Q < K < A\n",
    "- All suits are the same: 2 of spades = 2 of diamonds\n",
    "- The word input in a function does NOT refer to \"user input\". Recall, a function takes any number of input objects and returns any number of output objects. \n",
    "- This function should not print or return anything other than what was specified above (ie: the winning card or the word \"Tie\")."
   ]
  },
  {
   "cell_type": "code",
   "execution_count": 45,
   "metadata": {},
   "outputs": [
    {
     "name": "stdout",
     "output_type": "stream",
     "text": [
      "Winning card:\n",
      "{'suit': 'clubs', 'value': 'Q'}\n"
     ]
    }
   ],
   "source": [
    "def find_higher_card(card1, card2):\n",
    "    # set order of card values\n",
    "    card_order = {2: 2, 3: 3, 4: 4, 5: 5, 6: 6, 7: 7, 8: 8, 9: 9, 10: 10, \n",
    "                  \"J\": 11, \"Q\": 12, \"K\": 13, \"A\": 14}\n",
    "    \n",
    "    # get numerical value of each card\n",
    "    value1 = card_order[card1[\"value\"]]\n",
    "    value2 = card_order[card2[\"value\"]]\n",
    "    \n",
    "    # compare values and return result\n",
    "    if value1 > value2:\n",
    "        return card1\n",
    "    elif value2 > value1:\n",
    "        return card2\n",
    "    else:\n",
    "        return \"Tie\"\n",
    "\n",
    "\n",
    "winning_card = find_higher_card(player1, player2)\n",
    "print(\"Winning card:\")\n",
    "print(winning_card)"
   ]
  },
  {
   "cell_type": "markdown",
   "metadata": {},
   "source": [
    "### Part e (2 points)"
   ]
  },
  {
   "cell_type": "markdown",
   "metadata": {},
   "source": [
    "Write a conditional statement (using the objects created above) to print one of the following statements:\n",
    "    \n",
    "    - \"Player 1 wins.\"\n",
    "    - \"Player 2 wins.\"\n",
    "    - \"Player 1 and Player 2 tie.\""
   ]
  },
  {
   "cell_type": "code",
   "execution_count": 44,
   "metadata": {},
   "outputs": [
    {
     "name": "stdout",
     "output_type": "stream",
     "text": [
      "Player 1 wins.\n"
     ]
    }
   ],
   "source": [
    "if winning_card == \"Tie\":\n",
    "    print(\"Player 1 and Player 2 tie.\")\n",
    "elif winning_card == player1:\n",
    "    print(\"Player 1 wins.\")\n",
    "else:\n",
    "    print(\"Player 2 wins.\")"
   ]
  }
 ],
 "metadata": {
  "kernelspec": {
   "display_name": ".venv",
   "language": "python",
   "name": "python3"
  },
  "language_info": {
   "codemirror_mode": {
    "name": "ipython",
    "version": 3
   },
   "file_extension": ".py",
   "mimetype": "text/x-python",
   "name": "python",
   "nbconvert_exporter": "python",
   "pygments_lexer": "ipython3",
   "version": "3.13.2"
  }
 },
 "nbformat": 4,
 "nbformat_minor": 4
}
