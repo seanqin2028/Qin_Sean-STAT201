{
 "cells": [
  {
   "cell_type": "raw",
   "metadata": {
    "vscode": {
     "languageId": "raw"
    }
   },
   "source": [
    "---\n",
    "title: \"Assignment 1\"\n",
    "subtitle: \"STAT 201\"\n",
    "author: \"SEAN QIN\"\n",
    "format:\n",
    "  html:\n",
    "    toc: true \n",
    "    embed-resources: true\n",
    "jupyter: python3\n",
    "---"
   ]
  },
  {
   "cell_type": "markdown",
   "metadata": {},
   "source": [
    "## Instructions {-}\n",
    "\n",
    "1. **Write your name** on the assignment.\n",
    "\n",
    "2. Write your code in the *Code* cells of the **template provided** to write solutions for the assignment. **Do not open a new notebook**, and work from scratch. Ensure that the solution is written neatly enough to understand and grade.\n",
    "\n",
    "3. Use [Quarto](https://quarto.org/docs/output-formats/html-basics.html) to print the *.ipynb* file as HTML. You will need to open the command prompt, navigate to the directory containing the file, and use the command: `quarto render filename.ipynb --to html`. Submit the HTML file.\n",
    "\n",
    "4. You may talk to a friend, discuss the questions and potential directions for solving them. However, you need to write your own solutions and code separately, and not as a group activity. Do not use AI to solve the problems.\n",
    "\n",
    "5. If your document is not clean and organized, you can lose up to 2 points:\n",
    "\n",
    "    - Must be an HTML file rendered using Quarto. \n",
    "    - There aren’t excessively long outputs of extraneous information (e.g. no printouts of unnecessary results without good reason, there aren’t long printouts of which iteration a loop is on, there aren’t long sections of commented-out code, etc.). There is no piece of unnecessary / redundant code, and no unnecessary / redundant text\n",
    "    - The code follows the [python style guide](https://peps.python.org/pep-0008/) for naming variables, spaces, indentation, etc.\n",
    "    - The code should be commented and clearly written with intuitive variable names. For example, use variable names such as number_input, factor, hours, instead of a,b,xyz, etc.\n",
    "\n",
    "6. If your document does not include the output of your code, you may lose up to 5 points."
   ]
  },
  {
   "cell_type": "markdown",
   "metadata": {},
   "source": [
    "## Question 1 (4 points)"
   ]
  },
  {
   "cell_type": "markdown",
   "metadata": {},
   "source": [
    "a) Create a a variable called `var_float` that contains a decimal number."
   ]
  },
  {
   "cell_type": "code",
   "execution_count": 2,
   "metadata": {},
   "outputs": [],
   "source": [
    "var_float = 1.1"
   ]
  },
  {
   "cell_type": "markdown",
   "metadata": {},
   "source": [
    "b) Store a sentence as `var_sent` that reads exactly as follows: \"The square of `{}` is `{}`.\" Where the first `{}` is your `var_float` and the second `{}` is the square of that variable. Print your sentence."
   ]
  },
  {
   "cell_type": "code",
   "execution_count": 3,
   "metadata": {},
   "outputs": [
    {
     "name": "stdout",
     "output_type": "stream",
     "text": [
      "The square of 1.1 is 1.2100000000000002.\n"
     ]
    }
   ],
   "source": [
    "var_sent = f\"The square of {var_float} is {var_float ** 2}.\"\n",
    "print(var_sent)"
   ]
  },
  {
   "cell_type": "markdown",
   "metadata": {},
   "source": [
    "c) Print the output of using the `count` **method** to determine how many spaces are in `var_sent`."
   ]
  },
  {
   "cell_type": "code",
   "execution_count": 4,
   "metadata": {},
   "outputs": [
    {
     "name": "stdout",
     "output_type": "stream",
     "text": [
      "5\n"
     ]
    }
   ],
   "source": [
    "print(var_sent.count(\" \"))"
   ]
  },
  {
   "cell_type": "markdown",
   "metadata": {},
   "source": [
    "d) Round your `var_float` to 0 decimal places and convert to an integer. Store this as `var_int` and print the `type` to verify this was done correctly."
   ]
  },
  {
   "cell_type": "code",
   "execution_count": 5,
   "metadata": {},
   "outputs": [
    {
     "name": "stdout",
     "output_type": "stream",
     "text": [
      "<class 'int'>\n"
     ]
    }
   ],
   "source": [
    "var_int = int(round(var_float, 0))\n",
    "print(type(var_int))"
   ]
  },
  {
   "cell_type": "markdown",
   "metadata": {},
   "source": [
    "## Question 2 (3 points)"
   ]
  },
  {
   "cell_type": "markdown",
   "metadata": {},
   "source": [
    "Have a user input 2 Booleans (hint: must be type bool). In a **single print line**, using only `and`, `or`, `not` functions, have the output return True if both variables are the same, and False is they are different. \n",
    "\n",
    "Clarification: 1) cannot use conditional if statements 2) this must be capable of printing the correct output for any possible booleans the user could enter, not just the one example that your html will show."
   ]
  },
  {
   "cell_type": "code",
   "execution_count": null,
   "metadata": {},
   "outputs": [
    {
     "name": "stdout",
     "output_type": "stream",
     "text": [
      "False\n"
     ]
    }
   ],
   "source": [
    "# Asking for boolean entries, must be a String equivalent to \"True\"\n",
    "boolean1 = bool(input(\"Enter first boolean (True or False):\") == \"True\")\n",
    "boolean2 = bool(input(\"Enter second boolean (True or False):\") == \"True\")\n",
    "\n",
    "# Output determined by desired logic\n",
    "print((boolean1 and boolean2) or (not boolean1 and not boolean2))\n"
   ]
  },
  {
   "cell_type": "code",
   "execution_count": 11,
   "metadata": {},
   "outputs": [
    {
     "name": "stdout",
     "output_type": "stream",
     "text": [
      "Invalid input. Please enter 'True' or 'False'.\n",
      "False\n"
     ]
    }
   ],
   "source": [
    "# Revised Version\n",
    "\n",
    "# Function to get a valid boolean input from the user with error handling\n",
    "def get_valid_boolean(prompt):\n",
    "    while True:\n",
    "        try:\n",
    "            user_input = input(prompt).strip().lower()\n",
    "            if user_input in [\"true\", \"t\", \"yes\", \"y\", \"1\"]:\n",
    "                return True\n",
    "            elif user_input in [\"false\", \"f\", \"no\", \"n\", \"0\"]:\n",
    "                return False\n",
    "            else:\n",
    "                print(\"Invalid input. Please enter 'True' or 'False'.\")\n",
    "        except Exception as e:\n",
    "            print(f\"An error occurred: {e}. Please try again.\")\n",
    "\n",
    "# Asking for boolean entries, must be a String equivalent to \"True\"\n",
    "boolean1 = get_valid_boolean(\"Enter first boolean (True or False): \")\n",
    "boolean2 = get_valid_boolean(\"Enter second boolean (True or False): \")\n",
    "\n",
    "# Output determined by desired logic\n",
    "print((boolean1 and boolean2) or (not boolean1 and not boolean2))"
   ]
  },
  {
   "cell_type": "markdown",
   "metadata": {},
   "source": [
    "## Question 3 (6 points)"
   ]
  },
  {
   "cell_type": "markdown",
   "metadata": {},
   "source": [
    "At Northwestern, email addresses are classified as follows:\n",
    "\n",
    "- **Student email addresses** end with `@u.northwestern.edu`.\n",
    "- **Professor email addresses** end with `@northwestern.edu` (but not `@u.northwestern.edu`).\n",
    "\n",
    "Write a Python program that:\n",
    "1. Asks the user how many email addresses they will enter.\n",
    "2. Prompts the user to input each email address.\n",
    "3. After all email addresses are entered:\n",
    "   - Print all professor email addresses under the heading `\"Professor Emails:\"`.\n",
    "   - Print all student email addresses under the heading `\"Student Emails:\"`.\n",
    "   - If no professor or student emails were entered, print `\"None\"` under the respective heading.\n",
    "\n",
    "### Requirements:\n",
    "- Do not use lists or other advanced data structures, since we have not covered them yet.\n",
    "- Use only basic string operations and loops.\n",
    "- **The program must handle all cases**, regardless of uppercase or lowercase in the email addresses.\n",
    "- **Trim any leading or trailing whitespace** in the user input before classifying the email.\n",
    "\n",
    "**Example Run:**\n",
    "\n",
    "How many email addresses will you be entering? 3 <br>\n",
    "Enter an email address: lshi@northwestern.edu  <br>\n",
    "Enter an email address: jackyu@u.northwestern.edu  <br>\n",
    "Enter an email address:   Alexa@u.northwestern.edu  <br>\n",
    "\n",
    "**Output:**\n",
    "\n",
    "Professor Emails: <br>\n",
    "lshi@northwestern.edu <br>\n",
    "\n",
    "Student Emails: <br>\n",
    "jackyu@u.northwestern.edu <br>\n",
    "alexa@u.northwestern.edu <br>\n"
   ]
  },
  {
   "cell_type": "code",
   "execution_count": null,
   "metadata": {},
   "outputs": [
    {
     "name": "stdout",
     "output_type": "stream",
     "text": [
      "Professor Emails:\n",
      "lshi@northwestern.edu\n",
      "\n",
      "Student Emails:\n",
      "seanqin@u.northwestern.edu\n",
      "annazhang2024@u.northwestern.edu\n"
     ]
    }
   ],
   "source": [
    "# Initialize empty lists for email categorization\n",
    "professor_emails = []\n",
    "student_emails = []\n",
    "\n",
    "# Get number of emails to process\n",
    "email_count = int(input(\"How many email addresses will you be entering? \"))\n",
    "\n",
    "# Collect and categorize email addresses\n",
    "for i in range(email_count):\n",
    "    email = input(\"Enter an email address: \").strip()\n",
    "    email = email.lower()\n",
    "    \n",
    "    if email.endswith(\"@u.northwestern.edu\"):\n",
    "        student_emails.append(email)\n",
    "    elif email.endswith(\"@northwestern.edu\"):\n",
    "        professor_emails.append(email)\n",
    "\n",
    "# Display professor emails\n",
    "print(\"Professor Emails:\")\n",
    "if professor_emails:\n",
    "    for email in professor_emails:\n",
    "        print(email)\n",
    "else:\n",
    "    print(\"None\")\n",
    "    \n",
    "# Display student emails\n",
    "print(\"\\nStudent Emails:\")\n",
    "if student_emails:\n",
    "    for email in student_emails:\n",
    "        print(email)\n",
    "else:\n",
    "    print(\"None\")\n"
   ]
  },
  {
   "cell_type": "code",
   "execution_count": null,
   "metadata": {},
   "outputs": [
    {
     "name": "stdout",
     "output_type": "stream",
     "text": [
      "Email must end with @u.northwestern.edu or @northwestern.edu\n",
      "Professor Emails:\n",
      "lshi@northwestern.edu\n",
      "\n",
      "Student Emails:\n",
      "seanqin@u.northwestern.edu\n",
      "annazhang2024@u.northwestern.edu\n"
     ]
    }
   ],
   "source": [
    "# Revised Version\n",
    "\n",
    "# Initialize empty lists for email categorization\n",
    "professor_emails = []\n",
    "student_emails = []\n",
    "\n",
    "# Get number of emails with validation for non-negative integers\n",
    "while True:\n",
    "   try:\n",
    "       email_count = int(input(\"How many email addresses will you be entering? \"))\n",
    "       if email_count < 0:\n",
    "           print(\"Please enter a non-negative number.\")\n",
    "           continue\n",
    "       break\n",
    "   except ValueError:\n",
    "       print(\"Invalid input. Please enter a valid number.\")\n",
    "\n",
    "# Collect and categorize valid email addresses\n",
    "for i in range(email_count):\n",
    "   while True:\n",
    "       try:\n",
    "           email = input(\"Enter an email address: \").strip()\n",
    "           email = email.lower()\n",
    "           \n",
    "           if \"@\" not in email:\n",
    "               print(\"Invalid email format. Please enter a valid email address.\")\n",
    "               continue\n",
    "               \n",
    "           if email.endswith(\"@u.northwestern.edu\"):\n",
    "               student_emails.append(email)\n",
    "               break\n",
    "           elif email.endswith(\"@northwestern.edu\"):\n",
    "               professor_emails.append(email)\n",
    "               break\n",
    "           else:\n",
    "               print(\"Email must end with @u.northwestern.edu or @northwestern.edu\")\n",
    "               continue\n",
    "       except Exception as e:\n",
    "           print(f\"An error occurred: {e}. Please try again.\")\n",
    "\n",
    "# Display professor emails\n",
    "print(\"Professor Emails:\")\n",
    "if professor_emails:\n",
    "   for email in professor_emails:\n",
    "       print(email)\n",
    "else:\n",
    "   print(\"None\")\n",
    "\n",
    "# Display student emails\n",
    "print(\"\\nStudent Emails:\")\n",
    "if student_emails:\n",
    "   for email in student_emails:\n",
    "       print(email)\n",
    "else:\n",
    "   print(\"None\")"
   ]
  },
  {
   "cell_type": "markdown",
   "metadata": {},
   "source": [
    "## Question 4 (3 points)"
   ]
  },
  {
   "cell_type": "markdown",
   "metadata": {},
   "source": [
    "Write a tip calculator program that asks the user for the price of the meal and the percent tip they want to leave. Then print a sentence that displays both the tip amount and total bill. Example if meal price is 25 dollars and tip is 15 percent:\n",
    "                                   \n",
    "                                   Your tip amount is $3.75 and your total bill is $28.75."
   ]
  },
  {
   "cell_type": "code",
   "execution_count": 6,
   "metadata": {},
   "outputs": [
    {
     "name": "stdout",
     "output_type": "stream",
     "text": [
      "Your tip amount is $11.46 and your total bill is $87.90.\n"
     ]
    }
   ],
   "source": [
    "# Get meal price and tip percentage from user\n",
    "meal_price = float(input(\"Enter the price of your meal: $\"))\n",
    "percent_tip = float(input(\"Enter the percent tip you want to leave: \"))\n",
    "\n",
    "# Calculate tip amount and total bill\n",
    "tip_amount = meal_price * (percent_tip / 100)\n",
    "total_bill = meal_price + tip_amount\n",
    "\n",
    "# Display formatted results with 2 decimal places\n",
    "print(f\"Your tip amount is ${tip_amount:.2f} and your total bill is ${total_bill:.2f}.\")"
   ]
  },
  {
   "cell_type": "code",
   "execution_count": 7,
   "metadata": {},
   "outputs": [
    {
     "name": "stdout",
     "output_type": "stream",
     "text": [
      "Invalid input. Please enter a numeric value for the meal price.\n",
      "Invalid input. Please enter a numeric value for the tip percentage.\n",
      "Your tip amount is $2.09 and your total bill is $14.41.\n"
     ]
    }
   ],
   "source": [
    "# Revised Version\n",
    "\n",
    "# Get meal price with validation for positive numbers\n",
    "while True:\n",
    "   try:\n",
    "       meal_price = float(input(\"Enter the price of your meal: $\"))\n",
    "       if meal_price <= 0:\n",
    "           print(\"Please enter a positive number for the meal price.\")\n",
    "           continue\n",
    "       break\n",
    "   except ValueError:\n",
    "       print(\"Invalid input. Please enter a numeric value for the meal price.\")\n",
    "\n",
    "# Get tip percentage with validation for non-negative numbers\n",
    "while True:\n",
    "   try:\n",
    "       percent_tip = float(input(\"Enter the percent tip you want to leave: \"))\n",
    "       if percent_tip < 0:\n",
    "           print(\"Please enter a non-negative number for the tip percentage.\")\n",
    "           continue\n",
    "       break\n",
    "   except ValueError:\n",
    "       print(\"Invalid input. Please enter a numeric value for the tip percentage.\")\n",
    "\n",
    "# Calculate tip amount and total bill\n",
    "tip_amount = meal_price * (percent_tip / 100)\n",
    "total_bill = meal_price + tip_amount\n",
    "\n",
    "# Display formatted results with 2 decimal places\n",
    "print(f\"Your tip amount is ${tip_amount:.2f} and your total bill is ${total_bill:.2f}.\")"
   ]
  },
  {
   "cell_type": "markdown",
   "metadata": {},
   "source": [
    "## Question 5 (3 points)"
   ]
  },
  {
   "cell_type": "markdown",
   "metadata": {},
   "source": [
    "Write a program that asks the user for a number of seconds and prints out how many minutes and seconds that is. Example:\n",
    "\n",
    "                                    200 seconds is 3 minutes and 20 seconds.\n",
    "                                               \n",
    "**Use only two lines of code for this question: one line for the input and one line for the print.** "
   ]
  },
  {
   "cell_type": "code",
   "execution_count": null,
   "metadata": {},
   "outputs": [
    {
     "name": "stdout",
     "output_type": "stream",
     "text": [
      "123907 seconds is 2065 minutes and 7 seconds.\n"
     ]
    }
   ],
   "source": [
    "\n",
    "# Ask user for total seconds\n",
    "total_seconds = int(input(\"Enter a number of seconds: \"))\n",
    "\n",
    "# Convert and display results in minutes and seconds format\n",
    "print(f\"{total_seconds} seconds is {total_seconds // 60} minutes and {total_seconds % 60} seconds.\")"
   ]
  },
  {
   "cell_type": "code",
   "execution_count": null,
   "metadata": {},
   "outputs": [
    {
     "name": "stdout",
     "output_type": "stream",
     "text": [
      "Invalid input. Please enter a whole number.\n",
      "Invalid input. Please enter a whole number.\n",
      "123124124 seconds is 2052068 minutes and 44 seconds.\n"
     ]
    }
   ],
   "source": [
    "#Revised Version\n",
    "\n",
    "# Get total seconds with input validation\n",
    "while True:\n",
    "   try:\n",
    "       total_seconds = int(input(\"Enter a number of seconds: \")); break\n",
    "   except ValueError:\n",
    "       print(\"Invalid input. Please enter a whole number.\")\n",
    "       \n",
    "# Convert and display results in minutes and seconds format\n",
    "print(f\"{total_seconds} seconds is {total_seconds // 60} minutes and {total_seconds % 60} seconds.\")"
   ]
  },
  {
   "cell_type": "markdown",
   "metadata": {},
   "source": [
    "## Question 6 (4 points)"
   ]
  },
  {
   "cell_type": "markdown",
   "metadata": {},
   "source": [
    "Write a program that asks the user to enter two numbers. Have the program return one of the following messages depending on which criteria is met. \n",
    "\n",
    "\"`num1` is greater than `num2`\"; \"`num 1` is less than `num2`\"; \"`num1` is equal to `num2`\"; where `num1` and `num2` are the user inputed values.\n",
    "\n",
    "Show the output of the program with any two numbers of your choice."
   ]
  },
  {
   "cell_type": "code",
   "execution_count": null,
   "metadata": {},
   "outputs": [
    {
     "name": "stdout",
     "output_type": "stream",
     "text": [
      "123.4214 is greater than 3.0\n"
     ]
    }
   ],
   "source": [
    "# Get input numbers from user\n",
    "num1 = float(input(\"Enter first number: \"))\n",
    "num2 = float(input(\"Enter second number: \"))\n",
    "\n",
    "# Compare the two numbers and display the result\n",
    "if num1 > num2:\n",
    "    print(f\"{num1} is greater than {num2}\")\n",
    "elif num1 < num2:\n",
    "    print(f\"{num1} is less than {num2}\")\n",
    "else:\n",
    "    print(f\"{num1} is equal to {num2}\")"
   ]
  },
  {
   "cell_type": "code",
   "execution_count": null,
   "metadata": {},
   "outputs": [
    {
     "name": "stdout",
     "output_type": "stream",
     "text": [
      "Invalid input. Please enter a numeric value.\n",
      "91273.34 is greater than 12.0\n"
     ]
    }
   ],
   "source": [
    "# Revised Version\n",
    "\n",
    "# Function to validate numeric input with error handling\n",
    "def get_valid_number(prompt):\n",
    "    while True:\n",
    "        try:\n",
    "            number = float(input(prompt))\n",
    "            return number\n",
    "        except ValueError:\n",
    "            print(\"Invalid input. Please enter a numeric value.\")\n",
    "\n",
    "# Get both numbers using the validation function\n",
    "num1 = get_valid_number(\"Enter first number: \")\n",
    "num2 = get_valid_number(\"Enter second number: \")\n",
    "\n",
    "# Compare the two numbers and display the result\n",
    "if num1 > num2:\n",
    "    print(f\"{num1} is greater than {num2}\")\n",
    "elif num1 < num2:\n",
    "    print(f\"{num1} is less than {num2}\")\n",
    "else:\n",
    "    print(f\"{num1} is equal to {num2}\")"
   ]
  },
  {
   "cell_type": "markdown",
   "metadata": {},
   "source": [
    "## Question 7 (4 points)"
   ]
  },
  {
   "cell_type": "markdown",
   "metadata": {},
   "source": [
    "a) Use a **single if-elif-else** statement to print the smallest of 3 user defined numbers. Show the output of the program with any three numbers of your choice."
   ]
  },
  {
   "cell_type": "code",
   "execution_count": null,
   "metadata": {},
   "outputs": [
    {
     "name": "stdout",
     "output_type": "stream",
     "text": [
      "The smallest number is: 1.0\n"
     ]
    }
   ],
   "source": [
    "# Get three numbers from the user\n",
    "num1 = float(input(\"Enter first number: \"))\n",
    "num2 = float(input(\"Enter second number: \"))\n",
    "num3 = float(input(\"Enter third number: \"))\n",
    "\n",
    "# Compare the three numbers to find and display the smallest one\n",
    "if num1 <= num2 and num1 <= num3:\n",
    "    print(f\"The smallest number is: {num1}\")\n",
    "elif num2 <= num1 and num2 <= num3:\n",
    "    print(f\"The smallest number is: {num2}\")\n",
    "else:\n",
    "    print(f\"The smallest number is: {num3}\")"
   ]
  },
  {
   "cell_type": "code",
   "execution_count": null,
   "metadata": {},
   "outputs": [
    {
     "name": "stdout",
     "output_type": "stream",
     "text": [
      "Invalid input. Please enter a numeric value.\n",
      "The smallest number is: -91723.3\n"
     ]
    }
   ],
   "source": [
    "# Revised Version  \n",
    "\n",
    "# Function to validate numeric input with error handling\n",
    "def get_valid_number(prompt):\n",
    "   while True:\n",
    "       try:\n",
    "           number = float(input(prompt))\n",
    "           return number\n",
    "       except ValueError:\n",
    "           print(\"Invalid input. Please enter a numeric value.\")\n",
    "\n",
    "# Get three numbers from the user with validation\n",
    "num1 = get_valid_number(\"Enter first number: \")\n",
    "num2 = get_valid_number(\"Enter second number: \")\n",
    "num3 = get_valid_number(\"Enter third number: \")\n",
    "\n",
    "# Compare the three numbers to find and display the smallest one\n",
    "if num1 <= num2 and num1 <= num3:\n",
    "   print(f\"The smallest number is: {num1}\")\n",
    "elif num2 <= num1 and num2 <= num3:\n",
    "   print(f\"The smallest number is: {num2}\")\n",
    "else:\n",
    "   print(f\"The smallest number is: {num3}\")"
   ]
  },
  {
   "cell_type": "markdown",
   "metadata": {},
   "source": [
    "b) Use a **nested** conditional statement to print the smallest of 3 user defined numbers. Show the output of the program with any three numbers of your choice."
   ]
  },
  {
   "cell_type": "code",
   "execution_count": null,
   "metadata": {},
   "outputs": [
    {
     "name": "stdout",
     "output_type": "stream",
     "text": [
      "The smallest number is: 1.0\n"
     ]
    }
   ],
   "source": [
    "# Get three numbers from the user\n",
    "num1 = float(input(\"Enter first number: \"))\n",
    "num2 = float(input(\"Enter second number: \"))\n",
    "num3 = float(input(\"Enter third number: \"))\n",
    "\n",
    "# Find the smallest number using nested conditionals\n",
    "if num1 <= num2:\n",
    "   # If num1 is smaller than or equal to num2, compare num1 with num3\n",
    "   if num1 <= num3:\n",
    "       print(f\"The smallest number is: {num1}\")\n",
    "   else:\n",
    "       print(f\"The smallest number is: {num3}\")\n",
    "else:\n",
    "   # If num2 is smaller than num1, compare num2 with num3\n",
    "   if num2 <= num3:\n",
    "       print(f\"The smallest number is: {num2}\")\n",
    "   else:\n",
    "       print(f\"The smallest number is: {num3}\")"
   ]
  },
  {
   "cell_type": "code",
   "execution_count": null,
   "metadata": {},
   "outputs": [
    {
     "name": "stdout",
     "output_type": "stream",
     "text": [
      "Invalid input. Please enter a numeric value.\n",
      "The smallest number is: -3109.0\n"
     ]
    }
   ],
   "source": [
    "# Revised Version\n",
    "\n",
    "# Function to validate numeric input with error handling\n",
    "def get_valid_number(prompt):\n",
    "   while True:\n",
    "       try:\n",
    "           number = float(input(prompt))\n",
    "           return number\n",
    "       except ValueError:\n",
    "           print(\"Invalid input. Please enter a numeric value.\")\n",
    "\n",
    "# Get three numbers from the user with validation\n",
    "num1 = get_valid_number(\"Enter first number: \")\n",
    "num2 = get_valid_number(\"Enter second number: \")\n",
    "num3 = get_valid_number(\"Enter third number: \")\n",
    "\n",
    "# Find the smallest number using nested conditionals\n",
    "if num1 <= num2:\n",
    "   # If num1 is smaller than or equal to num2, compare num1 with num3\n",
    "   if num1 <= num3:\n",
    "       print(f\"The smallest number is: {num1}\")\n",
    "   else:\n",
    "       print(f\"The smallest number is: {num3}\")\n",
    "else:\n",
    "   # If num2 is smaller than num1, compare num2 with num3\n",
    "   if num2 <= num3:\n",
    "       print(f\"The smallest number is: {num2}\")\n",
    "   else:\n",
    "       print(f\"The smallest number is: {num3}\")"
   ]
  },
  {
   "cell_type": "markdown",
   "metadata": {},
   "source": [
    "## Question 8 (6 points)"
   ]
  },
  {
   "cell_type": "markdown",
   "metadata": {},
   "source": [
    "Write a program that asks the user to enter either rock, paper, or scissors. Use a conditional statement to determine if the user wins, loses, or ties the computer at the game \"Rock, Paper, Scissors\". Note: rock beats scissors; scissors beats paper; paper beats rock\n",
    "\n",
    "Print a meaningful sentence that includes the winner, the computer's choice, and the user's choice.\n",
    "\n",
    "- Handle case sensitivity (example: if the user enters Rock, it will still run). \n",
    "- If the user enters a word other than one of the choices, print \"Invalid choice.\". \n",
    "- Show the output of the program when the user enters Rock (capitalized)"
   ]
  },
  {
   "cell_type": "code",
   "execution_count": null,
   "metadata": {},
   "outputs": [
    {
     "name": "stdout",
     "output_type": "stream",
     "text": [
      "The computer chose rock.\n",
      "Both you and the computer chose rock; everyone wins in a tie!\n"
     ]
    }
   ],
   "source": [
    "# starter code to generate a random choice of rock, paper, scissors\n",
    "import random as rm\n",
    "comp_choice = rm.choice(['rock', 'paper', 'scissors'])\n",
    "\n",
    "# your solution in this code chunk below\n",
    "\n",
    "# Get user's choice and convert to lowercase\n",
    "user_choice = input(\"Enter either rock, paper, or scissors: \").lower()\n",
    "\n",
    "# Define valid options\n",
    "valid_choices = ['rock', 'paper', 'scissors']\n",
    "\n",
    "# Validate user input and determine the winner\n",
    "if user_choice not in valid_choices:\n",
    "   print(\"Invalid choice.\")\n",
    "else:\n",
    "   # Show computer's choice\n",
    "   print(f\"The computer chose {comp_choice}.\")\n",
    "   \n",
    "   # Determine and display game result\n",
    "   if user_choice == comp_choice:\n",
    "       print(f\"Both you and the computer chose {user_choice}; everyone wins in a tie!\")\n",
    "   elif (user_choice == \"rock\" and comp_choice == \"scissors\") or \\\n",
    "        (user_choice == \"scissors\" and comp_choice == \"paper\") or \\\n",
    "        (user_choice == \"paper\" and comp_choice == \"rock\"):\n",
    "       print(f\"Your {user_choice} beats the computer's {comp_choice}; congrats, you win!\")\n",
    "   else:\n",
    "       print(f\"The computer's {comp_choice} beats your {user_choice}; the computer wins this time!\")\n"
   ]
  },
  {
   "cell_type": "code",
   "execution_count": 8,
   "metadata": {},
   "outputs": [
    {
     "name": "stdout",
     "output_type": "stream",
     "text": [
      "Invalid choice. Please enter rock, paper, or scissors.\n",
      "The computer chose paper.\n",
      "The computer's paper beats your rock; the computer wins this time!\n"
     ]
    }
   ],
   "source": [
    "# Revised Code\n",
    "\n",
    "# Import random module and generate computer's choice\n",
    "import random as rm\n",
    "comp_choice = rm.choice(['rock', 'paper', 'scissors'])\n",
    "\n",
    "# Loop until user provides valid input\n",
    "while True:\n",
    "   user_choice = input(\"Enter either rock, paper, or scissors: \").lower()\n",
    "   valid_choices = ['rock', 'paper', 'scissors']\n",
    "   \n",
    "   if user_choice in valid_choices:\n",
    "       break\n",
    "   else:\n",
    "       print(\"Invalid choice. Please enter rock, paper, or scissors.\")\n",
    "\n",
    "# Display computer's choice\n",
    "print(f\"The computer chose {comp_choice}.\")\n",
    "\n",
    "# Determine and display game result\n",
    "if user_choice == comp_choice:\n",
    "   print(f\"Both you and the computer chose {user_choice}; everyone wins in a tie!\")\n",
    "elif (user_choice == \"rock\" and comp_choice == \"scissors\") or \\\n",
    "    (user_choice == \"scissors\" and comp_choice == \"paper\") or \\\n",
    "    (user_choice == \"paper\" and comp_choice == \"rock\"):\n",
    "   print(f\"Your {user_choice} beats the computer's {comp_choice}; congrats, you win!\")\n",
    "else:\n",
    "   print(f\"The computer's {comp_choice} beats your {user_choice}; the computer wins this time!\")"
   ]
  },
  {
   "cell_type": "markdown",
   "metadata": {},
   "source": [
    "## Bonus (6 points)\n",
    "\n",
    "FFor all questions in this assignment that involve accepting user input:\n",
    "\n",
    "- Use a **`try-except` block** to handle cases where the user may enter invalid input (e.g., non-numeric values).\n",
    "- Implement a **loop** that repeatedly prompts the user until a valid value is provided, so the program can proceed safely.\n",
    "- To receive credit, you must **revise each applicable question** by modifying your code to include both the input loop and error handling directly in that question’s solution.\n",
    "\n",
    "Each revised question is worth **1 point**."
   ]
  }
 ],
 "metadata": {
  "kernelspec": {
   "display_name": ".venv",
   "language": "python",
   "name": "python3"
  },
  "language_info": {
   "codemirror_mode": {
    "name": "ipython",
    "version": 3
   },
   "file_extension": ".py",
   "mimetype": "text/x-python",
   "name": "python",
   "nbconvert_exporter": "python",
   "pygments_lexer": "ipython3",
   "version": "3.13.2"
  }
 },
 "nbformat": 4,
 "nbformat_minor": 4
}
